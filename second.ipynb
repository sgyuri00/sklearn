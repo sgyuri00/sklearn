{
 "cells": [
  {
   "cell_type": "markdown",
   "metadata": {},
   "source": [
    "2.ea: Statisztika (gyakoriságok, percentilisek, átlag, medián, szórás, kovariancia, korreláció, diagramtípusok)"
   ]
  },
  {
   "cell_type": "markdown",
   "metadata": {},
   "source": [
    "2.gyak: Statisztika"
   ]
  },
  {
   "cell_type": "code",
   "execution_count": 1,
   "metadata": {},
   "outputs": [],
   "source": [
    "# From the previous lesson:\n",
    "import pandas as pd\n",
    "import matplotlib.pyplot as plt\n",
    "import seaborn as sns\n",
    "sns.set()\n",
    "import pandas as pd\n",
    "import numpy as np\n",
    "iris=pd.read_csv('.\\iris.csv')\n",
    "sepal_length=iris['sepal_length']\n",
    "species=[]\n",
    "for s in iris['species']:\n",
    "    if s not in species:\n",
    "        species.append(s)\n",
    "setosa_petal_length=[]\n",
    "versicolor_petal_length=[]\n",
    "virginica_petal_length=[]\n",
    "c=-1\n",
    "for s in iris['species']:\n",
    "    c+=1\n",
    "    if s=='Iris-setosa':\n",
    "        setosa_petal_length.append(iris['petal_length'][c])\n",
    "    if s=='Iris-versicolor':\n",
    "        versicolor_petal_length.append(iris['petal_length'][c])\n",
    "    if s=='Iris-virginica':\n",
    "        virginica_petal_length.append(iris['petal_length'][c])\n",
    "\n",
    "def ecdf(data):\n",
    "    \"\"\"Compute ECDF for a one-dimensional array of measurements.\"\"\"\n",
    "    # Number of data points: n\n",
    "    n = len(data)\n",
    "\n",
    "    # x-data for the ECDF: x\n",
    "    x = np.sort(data)\n",
    "\n",
    "    # y-data for the ECDF: y\n",
    "    y = np.arange(1,n+1) / n\n",
    "\n",
    "    return x, y\n",
    "        \n",
    "x_set, y_set=ecdf(setosa_petal_length)\n",
    "x_vers, y_vers=ecdf(versicolor_petal_length)\n",
    "x_virg, y_virg=ecdf(virginica_petal_length)"
   ]
  },
  {
   "cell_type": "markdown",
   "metadata": {},
   "source": [
    "### Summary statistics"
   ]
  },
  {
   "cell_type": "markdown",
   "metadata": {},
   "source": [
    "### mean\n",
    "Compute the mean petal length of Iris versicolor. Remember, you have already computed versicolor_petal_length. <br>\n",
    "Assign the mean to mean_length_vers."
   ]
  },
  {
   "cell_type": "code",
   "execution_count": 4,
   "metadata": {},
   "outputs": [
    {
     "name": "stdout",
     "output_type": "stream",
     "text": [
      "4.26\n"
     ]
    }
   ],
   "source": [
    "# Compute the mean: mean_length_vers\n",
    "mean_length_vers = np.mean(versicolor_petal_length)\n",
    "\n",
    "# Print the result with some nice formatting\n",
    "print(mean_length_vers)"
   ]
  },
  {
   "cell_type": "markdown",
   "metadata": {},
   "source": [
    "### percentiles"
   ]
  },
  {
   "cell_type": "markdown",
   "metadata": {},
   "source": [
    "Compute the percentiles of petal length of Iris versicolor. Remember, you have already computed versicolor_petal_length.\n",
    "\n",
    "Assign the mean to ptiles_vers."
   ]
  },
  {
   "cell_type": "code",
   "execution_count": 16,
   "metadata": {},
   "outputs": [
    {
     "name": "stdout",
     "output_type": "stream",
     "text": [
      "[3.3    4.     4.35   4.6    4.9775]\n"
     ]
    }
   ],
   "source": [
    "# Create a NumPy array of the 2.5th, 25th, 50th, 75th, and 97.5th percentiles\n",
    "# Eredeti ötlet\n",
    "# percentile_2_5 = np.percentile(versicolor_petal_length, 2.5)\n",
    "# percentile_25 = np.percentile(versicolor_petal_length, 25)\n",
    "# percentile_50 = np.percentile(versicolor_petal_length, 50)\n",
    "# percentile_75 = np.percentile(versicolor_petal_length, 75)\n",
    "\n",
    "# Jobbik\n",
    "percentiles = [2.5, 25, 50, 75, 97.5]\n",
    "# Use np.percentile() to compute the percentiles of the petal lengths, save the percentiles to variable 'ptiles_vers'\n",
    "ptiles_vers = np.percentile(versicolor_petal_length, percentiles)\n",
    "\n",
    "# Print the result\n",
    "print(ptiles_vers)"
   ]
  },
  {
   "cell_type": "markdown",
   "metadata": {},
   "source": [
    "### percentiles and ECDF"
   ]
  },
  {
   "cell_type": "markdown",
   "metadata": {},
   "source": [
    "To see how the percentiles relate to the ECDF, you will plot the percentiles of Iris versicolor petal lengths you calculated in the last exercise on the ECDF plot you generated in exercise 2. The percentile variables are available as ptiles_vers and percentiles.\n",
    "\n",
    "Note that to ensure the Y-axis of the ECDF plot remains between 0 and 1, you will need to rescale the percentiles array accordingly - in this case, dividing it by 100."
   ]
  },
  {
   "cell_type": "code",
   "execution_count": 22,
   "metadata": {},
   "outputs": [
    {
     "data": {
      "image/png": "[encoded data removed]",
      "text/plain": [
       "<Figure size 432x288 with 1 Axes>"
      ]
     },
     "metadata": {},
     "output_type": "display_data"
    }
   ],
   "source": [
    "# Plot the ECDF\n",
    "plt.plot(x_vers, y_vers, '.')\n",
    "plt.xlabel('petal length')\n",
    "plt.ylabel('ECDF')\n",
    "\n",
    "\n",
    "\n",
    "# Plot the percentiles as red diamonds on the ECDF:\n",
    "# Let the x and y coordinates be ptiles_vers and percentiles/100 \n",
    "# Specify the marker='D', color='red' and linestyle='none' keyword arguments\n",
    "# Saját\n",
    "# plt.scatter(ptiles_vers, np.array(percentiles) / 100, marker='D', color='red')\n",
    "# Hivatalos\n",
    "plt.plot(ptiles_vers, np.array(percentiles) / 100, marker='D', color='red', linestyle='none')\n",
    "\n",
    "# Show the plot\n",
    "plt.show()"
   ]
  },
  {
   "cell_type": "markdown",
   "metadata": {},
   "source": [
    "### boxplot"
   ]
  },
  {
   "cell_type": "markdown",
   "metadata": {},
   "source": [
    "Make a box plot of the iris petal lengths. \n",
    "\n",
    "Remember that a pandas DataFrame, iris, stores the data which contains petal length. Inspect the data frame iris using iris.head() to make sure you know what the pertinent columns are.\n"
   ]
  },
  {
   "cell_type": "code",
   "execution_count": 27,
   "metadata": {},
   "outputs": [
    {
     "data": {
      "text/html": [
       "<div>\n",
       "<style scoped>\n",
       "    .dataframe tbody tr th:only-of-type {\n",
       "        vertical-align: middle;\n",
       "    }\n",
       "\n",
       "    .dataframe tbody tr th {\n",
       "        vertical-align: top;\n",
       "    }\n",
       "\n",
       "    .dataframe thead th {\n",
       "        text-align: right;\n",
       "    }\n",
       "</style>\n",
       "<table border=\"1\" class=\"dataframe\">\n",
       "  <thead>\n",
       "    <tr style=\"text-align: right;\">\n",
       "      <th></th>\n",
       "      <th>sepal_length</th>\n",
       "      <th>sepal_width</th>\n",
       "      <th>petal_length</th>\n",
       "      <th>petal_width</th>\n",
       "      <th>species</th>\n",
       "    </tr>\n",
       "  </thead>\n",
       "  <tbody>\n",
       "    <tr>\n",
       "      <th>0</th>\n",
       "      <td>5.1</td>\n",
       "      <td>3.5</td>\n",
       "      <td>1.4</td>\n",
       "      <td>0.2</td>\n",
       "      <td>Iris-setosa</td>\n",
       "    </tr>\n",
       "    <tr>\n",
       "      <th>1</th>\n",
       "      <td>4.9</td>\n",
       "      <td>3.0</td>\n",
       "      <td>1.4</td>\n",
       "      <td>0.2</td>\n",
       "      <td>Iris-setosa</td>\n",
       "    </tr>\n",
       "    <tr>\n",
       "      <th>2</th>\n",
       "      <td>4.7</td>\n",
       "      <td>3.2</td>\n",
       "      <td>1.3</td>\n",
       "      <td>0.2</td>\n",
       "      <td>Iris-setosa</td>\n",
       "    </tr>\n",
       "    <tr>\n",
       "      <th>3</th>\n",
       "      <td>4.6</td>\n",
       "      <td>3.1</td>\n",
       "      <td>1.5</td>\n",
       "      <td>0.2</td>\n",
       "      <td>Iris-setosa</td>\n",
       "    </tr>\n",
       "    <tr>\n",
       "      <th>4</th>\n",
       "      <td>5.0</td>\n",
       "      <td>3.6</td>\n",
       "      <td>1.4</td>\n",
       "      <td>0.2</td>\n",
       "      <td>Iris-setosa</td>\n",
       "    </tr>\n",
       "  </tbody>\n",
       "</table>\n",
       "</div>"
      ],
      "text/plain": [
       "   sepal_length  sepal_width  petal_length  petal_width      species\n",
       "0           5.1          3.5           1.4          0.2  Iris-setosa\n",
       "1           4.9          3.0           1.4          0.2  Iris-setosa\n",
       "2           4.7          3.2           1.3          0.2  Iris-setosa\n",
       "3           4.6          3.1           1.5          0.2  Iris-setosa\n",
       "4           5.0          3.6           1.4          0.2  Iris-setosa"
      ]
     },
     "execution_count": 27,
     "metadata": {},
     "output_type": "execute_result"
    }
   ],
   "source": [
    "iris.head()"
   ]
  },
  {
   "cell_type": "code",
   "execution_count": 36,
   "metadata": {},
   "outputs": [
    {
     "data": {
      "image/png": "[encoded data removed]",
      "text/plain": [
       "<Figure size 432x288 with 1 Axes>"
      ]
     },
     "metadata": {},
     "output_type": "display_data"
    }
   ],
   "source": [
    "# Create box plot with Seaborn's default settings\n",
    "# HINT: You want to get information about the 'petal legth' of the different 'species'\n",
    "# Check sns.boxplot for help (You will need x, y and data for sure)\n",
    "sns.boxplot(x=\"species\", y=\"petal_length\", data=iris)\n",
    "\n",
    "# Label the axes\n",
    "plt.xlabel(\"Species\")\n",
    "plt.ylabel(\"Petal length\")\n",
    "\n",
    "\n",
    "# Show the plot\n",
    "plt.show()"
   ]
  },
  {
   "cell_type": "markdown",
   "metadata": {},
   "source": [
    "### variance"
   ]
  },
  {
   "cell_type": "markdown",
   "metadata": {},
   "source": [
    "In this exercise, we will explicitly compute the variance of the petal length of Iris veriscolor.\n",
    "\n",
    "We will then use np.var() to compute it."
   ]
  },
  {
   "cell_type": "code",
   "execution_count": 43,
   "metadata": {},
   "outputs": [
    {
     "name": "stdout",
     "output_type": "stream",
     "text": [
      "0.21640000000000004\n",
      "0.21640000000000004\n"
     ]
    }
   ],
   "source": [
    "# Create an array called differences \n",
    "# Need: the difference between the petal lengths (versicolor_petal_length) and the mean petal length \n",
    "# Enyém\n",
    "# differences = np.array(versicolor_petal_length - np.array(versicolor_petal_length))\n",
    "# Hivatalos\n",
    "differences = versicolor_petal_length - np.mean(versicolor_petal_length)\n",
    "\n",
    "# Square the differences: diff_sq\n",
    "# HINT: you can square a list (it will squere the elements)\n",
    "diff_sq = differences ** 2\n",
    "# Compute the mean square difference: variance_explicit\n",
    "variance_explicit = np.mean(diff_sq)\n",
    "\n",
    "\n",
    "\n",
    "# Compute the variance using NumPy: variance_np\n",
    "variance_np = np.var(versicolor_petal_length)\n",
    "\n",
    "# Print the results\n",
    "print(variance_explicit)\n",
    "print(variance_np)\n"
   ]
  },
  {
   "cell_type": "markdown",
   "metadata": {},
   "source": [
    "### std and variance"
   ]
  },
  {
   "cell_type": "code",
   "execution_count": 38,
   "metadata": {},
   "outputs": [
    {
     "name": "stdout",
     "output_type": "stream",
     "text": [
      "0.4651881339845203\n"
     ]
    }
   ],
   "source": [
    "# Compute the variance of versicolor_petal_length: variance\n",
    "import math\n",
    "variance = np.var(versicolor_petal_length)\n",
    "\n",
    "# Print the square root of the variance\n",
    "print(math.sqrt(variance))\n",
    "\n",
    "# Print the standard deviation of versicolor_petal_length\n"
   ]
  },
  {
   "cell_type": "markdown",
   "metadata": {},
   "source": [
    "### scatter plot"
   ]
  },
  {
   "cell_type": "markdown",
   "metadata": {},
   "source": [
    "Till this point, we compared the petal lengths of different species of iris.\n",
    "This time, we will compare two properties of a single species.\n",
    "\n",
    "First, create a variable called versicolor_petal_width and store the appropriate width data in it. (We already have a variable called versicolor_petal_length.)"
   ]
  },
  {
   "cell_type": "code",
   "execution_count": 45,
   "metadata": {},
   "outputs": [
    {
     "name": "stdout",
     "output_type": "stream",
     "text": [
      "[1.5, 1.5, 1.3, 1.5, 1.3, 1.6, 1.0, 1.3, 1.4, 1.0, 1.5, 1.0, 1.4, 1.3, 1.4, 1.5, 1.0, 1.5, 1.1, 1.8, 1.3, 1.5, 1.2, 1.3, 1.4, 1.4, 1.7, 1.5, 1.0, 1.1, 1.0, 1.2, 1.6, 1.5, 1.6, 1.5, 1.3, 1.3, 1.3, 1.2, 1.4, 1.2, 1.0, 1.3, 1.2, 1.3, 1.3, 1.1, 1.3, 2.5]\n"
     ]
    }
   ],
   "source": [
    "# Collect the versicolor petal width data into a list, called versicolor_petal_width\n",
    "# HINT: we have already did this for versicolor_petal_length\n",
    "versicolor_petal_width = []\n",
    "i = 0\n",
    "for current in iris['species']:\n",
    "    i += 1\n",
    "    if current == 'Iris-versicolor':\n",
    "        versicolor_petal_width.append(iris['petal_width'][i])\n",
    "\n",
    "print(versicolor_petal_width)\n",
    "\n",
    "\n"
   ]
  },
  {
   "cell_type": "markdown",
   "metadata": {},
   "source": [
    "We will make a scatter plot of the petal length and width measurements of Iris versicolor flowers. If the flower scales (that is, it preserves its proportion as it grows), we would expect the length and width to be correlated."
   ]
  },
  {
   "cell_type": "code",
   "execution_count": 48,
   "metadata": {},
   "outputs": [
    {
     "data": {
      "image/png": "[encoded data removed]",
      "text/plain": [
       "<Figure size 432x288 with 1 Axes>"
      ]
     },
     "metadata": {},
     "output_type": "display_data"
    }
   ],
   "source": [
    "# Make a scatter plot of versicolor petal length (x-axis) versus petal width (y-axis)\n",
    "# Use the marker='.' and linestyle='none' keyword arguments\n",
    "plt.scatter(versicolor_petal_length, versicolor_petal_width, marker='.')\n",
    "\n",
    "\n",
    "# Label the axes\n",
    "plt.xlabel('Petal length')\n",
    "plt.ylabel('Petal width')\n",
    "\n",
    "\n",
    "# Show the result\n",
    "plt.show()"
   ]
  },
  {
   "cell_type": "markdown",
   "metadata": {},
   "source": [
    "### covariance"
   ]
  },
  {
   "cell_type": "markdown",
   "metadata": {},
   "source": [
    "The covariance may be computed using the Numpy function np.cov(). For datasts x and y, np.cov(x, y) returns a 2D array where entries [0,1] and [1,0] are the covariances. Entry [0,0] is the variance of the data in x, and entry [1,1] is the variance of the data in y. This 2D output array is called the covariance matrix, since it organizes the self- and covariance."
   ]
  },
  {
   "cell_type": "code",
   "execution_count": 49,
   "metadata": {},
   "outputs": [
    {
     "name": "stdout",
     "output_type": "stream",
     "text": [
      "[[0.22081633 0.00502041]\n",
      " [0.00502041 0.06662857]]\n"
     ]
    }
   ],
   "source": [
    "# Compute the covariance matrix for the petal length and width: covariance_matrix\n",
    "covariance_matrix = np.cov(versicolor_petal_length, versicolor_petal_width)\n",
    "\n",
    "# Print covariance matrix\n",
    "print(covariance_matrix)\n",
    "\n",
    "# Extract covariance of length and width of petals: petal_cov\n",
    "\n",
    "\n",
    "# Print the length/width covariance\n",
    "\n"
   ]
  },
  {
   "cell_type": "markdown",
   "metadata": {},
   "source": [
    "### random number generation"
   ]
  },
  {
   "cell_type": "markdown",
   "metadata": {},
   "source": [
    "In this exercise, we'll generate lots of random numbers between zero and one, and then plot a histogram of the results. If the numbers are truly random, all bars in the histogram should be of (close to) equal height."
   ]
  },
  {
   "cell_type": "code",
   "execution_count": 55,
   "metadata": {},
   "outputs": [
    {
     "data": {
      "text/plain": [
       "(array([ 95., 102.,  91., 110.,  95., 114., 108., 115., 115.,  86., 102.,\n",
       "         98., 110., 104.,  89.,  92., 118.,  95., 100., 104., 100.,  96.,\n",
       "         96.,  99., 110., 112.,  96., 102., 111.,  86.,  99.,  95., 102.,\n",
       "        102., 105., 105.,  94.,  96.,  98., 110., 108., 120.,  91., 102.,\n",
       "        102., 109.,  94.,  79., 115.,  98., 118., 117.,  81.,  98., 114.,\n",
       "         96.,  91., 110., 101., 107., 101.,  94.,  96.,  97., 105.,  96.,\n",
       "        109., 112.,  84., 111.,  98.,  91.,  98.,  99.,  85.,  88., 102.,\n",
       "         82.,  90.,  89., 122., 104., 113.,  84.,  92.,  94.,  98., 111.,\n",
       "         80., 104.,  94.,  80.,  85., 113., 115.,  95., 110.,  90.,  94.,\n",
       "         87.]),\n",
       " array([1.16347554e-05, 1.00086951e-02, 2.00057555e-02, 3.00028159e-02,\n",
       "        3.99998763e-02, 4.99969367e-02, 5.99939971e-02, 6.99910575e-02,\n",
       "        7.99881178e-02, 8.99851782e-02, 9.99822386e-02, 1.09979299e-01,\n",
       "        1.19976359e-01, 1.29973420e-01, 1.39970480e-01, 1.49967541e-01,\n",
       "        1.59964601e-01, 1.69961661e-01, 1.79958722e-01, 1.89955782e-01,\n",
       "        1.99952842e-01, 2.09949903e-01, 2.19946963e-01, 2.29944024e-01,\n",
       "        2.39941084e-01, 2.49938144e-01, 2.59935205e-01, 2.69932265e-01,\n",
       "        2.79929326e-01, 2.89926386e-01, 2.99923446e-01, 3.09920507e-01,\n",
       "        3.19917567e-01, 3.29914627e-01, 3.39911688e-01, 3.49908748e-01,\n",
       "        3.59905809e-01, 3.69902869e-01, 3.79899929e-01, 3.89896990e-01,\n",
       "        3.99894050e-01, 4.09891111e-01, 4.19888171e-01, 4.29885231e-01,\n",
       "        4.39882292e-01, 4.49879352e-01, 4.59876412e-01, 4.69873473e-01,\n",
       "        4.79870533e-01, 4.89867594e-01, 4.99864654e-01, 5.09861714e-01,\n",
       "        5.19858775e-01, 5.29855835e-01, 5.39852896e-01, 5.49849956e-01,\n",
       "        5.59847016e-01, 5.69844077e-01, 5.79841137e-01, 5.89838197e-01,\n",
       "        5.99835258e-01, 6.09832318e-01, 6.19829379e-01, 6.29826439e-01,\n",
       "        6.39823499e-01, 6.49820560e-01, 6.59817620e-01, 6.69814681e-01,\n",
       "        6.79811741e-01, 6.89808801e-01, 6.99805862e-01, 7.09802922e-01,\n",
       "        7.19799982e-01, 7.29797043e-01, 7.39794103e-01, 7.49791164e-01,\n",
       "        7.59788224e-01, 7.69785284e-01, 7.79782345e-01, 7.89779405e-01,\n",
       "        7.99776466e-01, 8.09773526e-01, 8.19770586e-01, 8.29767647e-01,\n",
       "        8.39764707e-01, 8.49761768e-01, 8.59758828e-01, 8.69755888e-01,\n",
       "        8.79752949e-01, 8.89750009e-01, 8.99747069e-01, 9.09744130e-01,\n",
       "        9.19741190e-01, 9.29738251e-01, 9.39735311e-01, 9.49732371e-01,\n",
       "        9.59729432e-01, 9.69726492e-01, 9.79723553e-01, 9.89720613e-01,\n",
       "        9.99717673e-01]),\n",
       " <BarContainer object of 100 artists>)"
      ]
     },
     "execution_count": 55,
     "metadata": {},
     "output_type": "execute_result"
    },
    {
     "data": {
      "image/png": "[encoded data removed]",
      "text/plain": [
       "<Figure size 432x288 with 1 Axes>"
      ]
     },
     "metadata": {},
     "output_type": "display_data"
    }
   ],
   "source": [
    "# Seed the random number generator using seed 42\n",
    "np.random.seed(42)\n",
    "\n",
    "# Initialize an empty array of 100000 entries to store the random numbers:  random_numbers\n",
    "random_numbers = np.empty(10000)\n",
    "\n",
    "# Generate random numbers by looping over range(100000)\n",
    "for i in range(len(random_numbers)):\n",
    "    random_numbers[i] = np.random.random()\n",
    "\n",
    "# Plot a histogram\n",
    "plt.hist(random_numbers, bins=100)"
   ]
  },
  {
   "cell_type": "markdown",
   "metadata": {},
   "source": [
    "In the previous exercise, replace the number of trials (100000) with smaller numbers. You can see the power of the Law of Large Numbers."
   ]
  },
  {
   "cell_type": "markdown",
   "metadata": {},
   "source": [
    "### Bernoulli trials"
   ]
  },
  {
   "cell_type": "markdown",
   "metadata": {},
   "source": [
    "You can think of a Bernoulli trial as a flip of a possibly biased coin. Specifically, each coin flip has a probability p of landing heads (success) and probability 1−p of landing tails (failure). \n",
    "\n",
    "In this exercise, you will write a function to perform n Bernoulli trials, perform_bernoulli_trials(n, p), which returns the number of successes out of n Bernoulli trials, each of which has probability p of success. To perform each Bernoulli trial, use the np.random.random() function, which returns a random number between zero and one."
   ]
  },
  {
   "cell_type": "code",
   "execution_count": 61,
   "metadata": {},
   "outputs": [],
   "source": [
    "def perform_bernoulli_trials(n, p):\n",
    "    \"\"\"Perform n Bernoulli trials with success probability p\n",
    "    and return number of successes.\"\"\"\n",
    "    # Initialize number of successes: n_success\n",
    "    n_success = 0\n",
    "\n",
    "    # Perform trials \n",
    "    for i in range(n):\n",
    "        # Choose random number between zero and one: random_number\n",
    "        random_number = np.random.random()\n",
    "\n",
    "        # If less than p, it's a success  so add one to n_success\n",
    "        if random_number < p:\n",
    "            n_success += 1\n",
    "\n",
    "    return n_success"
   ]
  },
  {
   "cell_type": "markdown",
   "metadata": {},
   "source": [
    "Let's say a bank made 100 mortgage loans. It is possible that anywhere between 0 and 100 of the loans will be defaulted upon. You would like to know the probability of getting a given number of defaults, given that the probability of a default is p = 0.05. \n",
    "\n",
    "To investigate this, you will do a simulation. You will perform 100 Bernoulli trials using the perform_bernoulli_trials() function you wrote in the previous exercise and record how many defaults we get. Here, a success is a default. \n",
    "\n",
    "You will do this for another 100 Bernoulli trials. And again and again until we have tried it 1000 times. Then, you will plot a histogram describing the probability of the number of defaults."
   ]
  },
  {
   "cell_type": "code",
   "execution_count": 66,
   "metadata": {},
   "outputs": [
    {
     "data": {
      "image/png": "[encoded data removed]",
      "text/plain": [
       "<Figure size 432x288 with 1 Axes>"
      ]
     },
     "metadata": {},
     "output_type": "display_data"
    }
   ],
   "source": [
    "# Seed random number generator\n",
    "np.random.seed(69)\n",
    "\n",
    "# Initialize the number of defaults: n_defaults\n",
    "# It should contain 1000 entries, since we are doing 1000 simulations\n",
    "n_defaults = np.empty(1000)\n",
    "\n",
    "# Compute the number of defaults\n",
    "# HINT: Write a for loop with 1000 iterations to compute the number of defaults per 100 loans using the perform_bernoulli_trials() function.\n",
    "for i in range(len(n_defaults)):\n",
    "    n_defaults[i] = perform_bernoulli_trials(n=100, p=0.05)\n",
    "\n",
    "# Plot a histogram of n_defaults\n",
    "# Include the 'density=True' keyword argument so that the height of the bars of the histogram indicate the probability\n",
    "# Label your axes\n",
    "#_ = plt.scatter([i for i in range(15)],szamlalo)\n",
    "plt.hist(n_defaults, bins=100, density=True)\n",
    "plt.xlabel(\"number of defaults per 100 loans\")\n",
    "plt.ylabel(\"probability\")\n",
    "\n",
    "\n",
    "\n",
    "# Show the plot\n",
    "plt.show()"
   ]
  },
  {
   "cell_type": "markdown",
   "metadata": {},
   "source": [
    "Plot the number of defaults you got from the previous exercise (n_defaults), as a CDF. Use the ecdf() function you wrote earlier.\n",
    "\n",
    "If interest rates are such that the bank will lose money if 10 or more of its loans are defaulted upon, what is the probability that the bank will lose money?"
   ]
  },
  {
   "cell_type": "code",
   "execution_count": 69,
   "metadata": {},
   "outputs": [
    {
     "data": {
      "image/png": "[encoded data removed]",
      "text/plain": [
       "<Figure size 432x288 with 1 Axes>"
      ]
     },
     "metadata": {},
     "output_type": "display_data"
    },
    {
     "name": "stdout",
     "output_type": "stream",
     "text": [
      "Pénz vesztési valószínűség 0.039\n"
     ]
    }
   ],
   "source": [
    "# Compute ECDF: x, y\n",
    "x, y = ecdf(n_defaults)\n",
    "\n",
    "# Plot the CDF with labeled axes\n",
    "# Include marker = '.' and linestyle = 'none'\n",
    "plt.scatter(x, y, marker='.')\n",
    "\n",
    "# Show the plot\n",
    "plt.show()\n",
    "\n",
    "# Compute the number of 100-loan simulations with 10 or more defaults: n_lose_money\n",
    "n_lose_money = np.sum(n_defaults >= 10)\n",
    "\n",
    "# Compute and print probability of losing money\n",
    "print(\"Pénz vesztési valószínűség\", n_lose_money / len(n_defaults))"
   ]
  },
  {
   "cell_type": "markdown",
   "metadata": {},
   "source": [
    "### Sampling out of the Binomial distribution"
   ]
  },
  {
   "cell_type": "markdown",
   "metadata": {},
   "source": [
    "Compute the probability mass function for the number of defaults we would expect for 100 loans as in the last exercise, but instead of simulating all of the Bernoulli trials, perform the sampling using np.random.binomial(). This is identical to the calculation you did in the last set of exercises using your custom-written perform_bernoulli_trials() function, but far more computationally efficient. Given this extra efficiency, we will take 10,000 samples instead of 1000. After taking the samples, plot the CDF as last time. This CDF that you are plotting is that of the Binomial distribution."
   ]
  },
  {
   "cell_type": "code",
   "execution_count": 16,
   "metadata": {},
   "outputs": [],
   "source": [
    "# Take 10,000 samples out of the binomial distribution using np.random.binomial(): n_defaults\n",
    "\n",
    "\n",
    "# Compute CDF: x, y\n",
    "\n",
    "\n",
    "# Plot the CDF with axis labels\n",
    "\n",
    "\n",
    "# Show the plot\n"
   ]
  },
  {
   "cell_type": "markdown",
   "metadata": {},
   "source": [
    "### Relationship between Binomial and Poisson distributions"
   ]
  },
  {
   "cell_type": "markdown",
   "metadata": {},
   "source": [
    "The Poisson distribution is a limit of the Binomial distribution for rare events. More precisely, the Poisson distribution with arrival rate equal to np approximates a Binomial distribution for n Bernoulli trials with probability p of success (with n large and p small). \n",
    "\n",
    "Importantly, the Poisson distribution is often simpler to work with because it has only one parameter instead of two for the Binomial distribution.\n",
    "\n",
    "Let's explore these two distributions computationally. You will compute the mean and standard deviation of samples from a Poisson distribution with an arrival rate of 10. Then, you will compute the mean and standard deviation of samples from a Binomial distribution with parameters n and p such that np=10."
   ]
  },
  {
   "cell_type": "code",
   "execution_count": 17,
   "metadata": {},
   "outputs": [],
   "source": [
    "# Draw 10000 samples from a Poisson distribution with a mean of 10: samples_poisson\n",
    "# Use the np.random.poisson() function\n",
    "\n",
    "\n",
    "# Print the mean and standard deviation\n",
    "\n",
    "\n",
    "\n",
    "# Make a list of the n and p values to consider for the Binomial distribution\n",
    "# Choose n = [20, 100, 1000] and p = [0.5, 0.1, 0.01] so that np is always 10\n",
    "\n",
    "\n",
    "\n",
    "# Draw 10000 samples from a Binomial distribution with each n, p pair\n",
    "# Use the np.random.binomial() inside the provided for loop\n",
    "# Print the mean and standard deviation of the samples. \n",
    "# HINT: There are three n,p pairs, these can be accessed inside the loop as n[i], p[i]\n",
    "\n",
    "\n",
    "\n",
    "\n"
   ]
  },
  {
   "cell_type": "markdown",
   "metadata": {},
   "source": [
    "### The Normal PDF"
   ]
  },
  {
   "cell_type": "markdown",
   "metadata": {},
   "source": [
    "In this exercise, you will explore the Normal PDF and also learn a way to plot a PDF of a known distribution. Specifically, you will plot a Normal PDF for various values of the variance."
   ]
  },
  {
   "cell_type": "code",
   "execution_count": 18,
   "metadata": {},
   "outputs": [],
   "source": [
    "# Draw 100000 samples from Normal distribution with std 1,3,10 and each with mean 20: samples_std1, samples_std3, samples_std10\n",
    "\n",
    "\n",
    "\n",
    "\n",
    "# Plot a histograms of each of the samples\n",
    "# Use 100 bins \n",
    "# Use the keyword arguments density=True and histtype='step'\n",
    "# ( The latter keyword argument makes the plot look much like the smooth theoretical PDF. )\n",
    "\n",
    "\n",
    "\n",
    "\n",
    "\n",
    "# Make a legend, set limits and show plot\n",
    "\n",
    "\n"
   ]
  },
  {
   "cell_type": "markdown",
   "metadata": {},
   "source": [
    "### The Normal CDF"
   ]
  },
  {
   "cell_type": "markdown",
   "metadata": {},
   "source": [
    "Now that you have a feel for how the Normal PDF looks, let's consider its CDF. Using the samples you generated in the last exercise (samples_std1, samples_std3, and samples_std10), generate and plot the CDFs."
   ]
  },
  {
   "cell_type": "code",
   "execution_count": 19,
   "metadata": {},
   "outputs": [],
   "source": [
    "# Use your ecdf() function to generate x and y values for CDFs: x_std1, y_std1, x_std3, y_std3 and x_std10, y_std10\n",
    "\n",
    "\n",
    "\n",
    "\n",
    "# Plot CDFs \n",
    "# Do not forget the marker and linestyle keyword arguments\n",
    "\n",
    "\n",
    "\n",
    "\n",
    "# Make a legend and show the plot\n",
    "\n"
   ]
  },
  {
   "cell_type": "code",
   "execution_count": null,
   "metadata": {},
   "outputs": [],
   "source": []
  }
 ],
 "metadata": {
  "kernelspec": {
   "display_name": "Python 3",
   "language": "python",
   "name": "python3"
  },
  "language_info": {
   "codemirror_mode": {
    "name": "ipython",
    "version": 3
   },
   "file_extension": ".py",
   "mimetype": "text/x-python",
   "name": "python",
   "nbconvert_exporter": "python",
   "pygments_lexer": "ipython3",
   "version": "3.9.7"
  }
 },
 "nbformat": 4,
 "nbformat_minor": 2
}
