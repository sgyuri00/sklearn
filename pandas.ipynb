{
 "cells": [
  {
   "cell_type": "markdown",
   "metadata": {},
   "source": [
    "Feladatok Pandas DataFrame-el, a CRISP DM első lépései (Business understanding, data understanding, data preparation)"
   ]
  },
  {
   "cell_type": "markdown",
   "metadata": {},
   "source": [
    "## Pandas DataFrames"
   ]
  },
  {
   "cell_type": "markdown",
   "metadata": {},
   "source": [
    "Pandas is a high-level data manipulation tool developed by Wes McKinney. It is built on the Numpy package and its key data structure is called the DataFrame. DataFrames allow you to store and manipulate tabular data in rows of observations and columns of variables."
   ]
  },
  {
   "cell_type": "markdown",
   "metadata": {},
   "source": [
    "* You can use dictionary to create a DataFrame."
   ]
  },
  {
   "cell_type": "code",
   "execution_count": 2,
   "metadata": {},
   "outputs": [
    {
     "data": {
      "text/html": [
       "<div>\n",
       "<style scoped>\n",
       "    .dataframe tbody tr th:only-of-type {\n",
       "        vertical-align: middle;\n",
       "    }\n",
       "\n",
       "    .dataframe tbody tr th {\n",
       "        vertical-align: top;\n",
       "    }\n",
       "\n",
       "    .dataframe thead th {\n",
       "        text-align: right;\n",
       "    }\n",
       "</style>\n",
       "<table border=\"1\" class=\"dataframe\">\n",
       "  <thead>\n",
       "    <tr style=\"text-align: right;\">\n",
       "      <th></th>\n",
       "      <th>country</th>\n",
       "      <th>capital</th>\n",
       "      <th>area</th>\n",
       "      <th>population</th>\n",
       "    </tr>\n",
       "  </thead>\n",
       "  <tbody>\n",
       "    <tr>\n",
       "      <th>0</th>\n",
       "      <td>Brazil</td>\n",
       "      <td>Brasilia</td>\n",
       "      <td>8.516</td>\n",
       "      <td>200.40</td>\n",
       "    </tr>\n",
       "    <tr>\n",
       "      <th>1</th>\n",
       "      <td>Russia</td>\n",
       "      <td>Moscow</td>\n",
       "      <td>17.100</td>\n",
       "      <td>143.50</td>\n",
       "    </tr>\n",
       "    <tr>\n",
       "      <th>2</th>\n",
       "      <td>India</td>\n",
       "      <td>New Dehli</td>\n",
       "      <td>3.286</td>\n",
       "      <td>1252.00</td>\n",
       "    </tr>\n",
       "    <tr>\n",
       "      <th>3</th>\n",
       "      <td>China</td>\n",
       "      <td>Beijing</td>\n",
       "      <td>9.597</td>\n",
       "      <td>1357.00</td>\n",
       "    </tr>\n",
       "    <tr>\n",
       "      <th>4</th>\n",
       "      <td>South Africa</td>\n",
       "      <td>Pretoria</td>\n",
       "      <td>1.221</td>\n",
       "      <td>52.98</td>\n",
       "    </tr>\n",
       "  </tbody>\n",
       "</table>\n",
       "</div>"
      ],
      "text/plain": [
       "        country    capital    area  population\n",
       "0        Brazil   Brasilia   8.516      200.40\n",
       "1        Russia     Moscow  17.100      143.50\n",
       "2         India  New Dehli   3.286     1252.00\n",
       "3         China    Beijing   9.597     1357.00\n",
       "4  South Africa   Pretoria   1.221       52.98"
      ]
     },
     "execution_count": 2,
     "metadata": {},
     "output_type": "execute_result"
    }
   ],
   "source": [
    "dict = { \"country\": [\"Brazil\", \"Russia\", \"India\", \"China\", \"South Africa\"],\n",
    "       \"capital\": [\"Brasilia\", \"Moscow\", \"New Dehli\", \"Beijing\", \"Pretoria\"],\n",
    "       \"area\": [8.516, 17.10, 3.286, 9.597, 1.221],\n",
    "       \"population\": [200.4, 143.5, 1252, 1357, 52.98] }\n",
    "\n",
    "import pandas as pd\n",
    "brics = pd.DataFrame(dict)\n",
    "brics"
   ]
  },
  {
   "cell_type": "markdown",
   "metadata": {},
   "source": [
    "As you can see with the new brics DataFrame, Pandas has assigned a key for each country as the numerical values from 0 to 4. If you would like to have different index values, say, the two letter country code, you can do that easily as well."
   ]
  },
  {
   "cell_type": "code",
   "execution_count": 3,
   "metadata": {},
   "outputs": [
    {
     "data": {
      "text/html": [
       "<div>\n",
       "<style scoped>\n",
       "    .dataframe tbody tr th:only-of-type {\n",
       "        vertical-align: middle;\n",
       "    }\n",
       "\n",
       "    .dataframe tbody tr th {\n",
       "        vertical-align: top;\n",
       "    }\n",
       "\n",
       "    .dataframe thead th {\n",
       "        text-align: right;\n",
       "    }\n",
       "</style>\n",
       "<table border=\"1\" class=\"dataframe\">\n",
       "  <thead>\n",
       "    <tr style=\"text-align: right;\">\n",
       "      <th></th>\n",
       "      <th>country</th>\n",
       "      <th>capital</th>\n",
       "      <th>area</th>\n",
       "      <th>population</th>\n",
       "    </tr>\n",
       "  </thead>\n",
       "  <tbody>\n",
       "    <tr>\n",
       "      <th>BR</th>\n",
       "      <td>Brazil</td>\n",
       "      <td>Brasilia</td>\n",
       "      <td>8.516</td>\n",
       "      <td>200.40</td>\n",
       "    </tr>\n",
       "    <tr>\n",
       "      <th>RU</th>\n",
       "      <td>Russia</td>\n",
       "      <td>Moscow</td>\n",
       "      <td>17.100</td>\n",
       "      <td>143.50</td>\n",
       "    </tr>\n",
       "    <tr>\n",
       "      <th>IN</th>\n",
       "      <td>India</td>\n",
       "      <td>New Dehli</td>\n",
       "      <td>3.286</td>\n",
       "      <td>1252.00</td>\n",
       "    </tr>\n",
       "    <tr>\n",
       "      <th>CH</th>\n",
       "      <td>China</td>\n",
       "      <td>Beijing</td>\n",
       "      <td>9.597</td>\n",
       "      <td>1357.00</td>\n",
       "    </tr>\n",
       "    <tr>\n",
       "      <th>SA</th>\n",
       "      <td>South Africa</td>\n",
       "      <td>Pretoria</td>\n",
       "      <td>1.221</td>\n",
       "      <td>52.98</td>\n",
       "    </tr>\n",
       "  </tbody>\n",
       "</table>\n",
       "</div>"
      ],
      "text/plain": [
       "         country    capital    area  population\n",
       "BR        Brazil   Brasilia   8.516      200.40\n",
       "RU        Russia     Moscow  17.100      143.50\n",
       "IN         India  New Dehli   3.286     1252.00\n",
       "CH         China    Beijing   9.597     1357.00\n",
       "SA  South Africa   Pretoria   1.221       52.98"
      ]
     },
     "execution_count": 3,
     "metadata": {},
     "output_type": "execute_result"
    }
   ],
   "source": [
    "# Set the index for brics\n",
    "brics.index = [\"BR\", \"RU\", \"IN\", \"CH\", \"SA\"]\n",
    "\n",
    "# Print out brics with new index values\n",
    "brics"
   ]
  },
  {
   "cell_type": "markdown",
   "metadata": {},
   "source": [
    "* You can create a DataFrame is by importing a csv file using Pandas."
   ]
  },
  {
   "cell_type": "markdown",
   "metadata": {},
   "source": [
    "Download the cars.csv file and import it by using pd.read_csv."
   ]
  },
  {
   "cell_type": "code",
   "execution_count": 4,
   "metadata": {},
   "outputs": [
    {
     "name": "stdout",
     "output_type": "stream",
     "text": [
      "  Unnamed: 0  cars_per_cap        country  drives_right\n",
      "0         US           809  United States          True\n",
      "1        AUS           731      Australia         False\n",
      "2        JAP           588          Japan         False\n",
      "3         IN            18          India         False\n",
      "4         RU           200         Russia          True\n",
      "5        MOR            70        Morocco          True\n",
      "6         EG            45          Egypt          True\n"
     ]
    }
   ],
   "source": [
    "# Import the cars.csv data: cars\n",
    "cars = pd.read_csv('cars.csv')\n",
    "\n",
    "# Print out cars\n",
    "print(cars)"
   ]
  },
  {
   "cell_type": "code",
   "execution_count": 5,
   "metadata": {},
   "outputs": [],
   "source": [
    "cars = cars.rename(columns={'Unnamed: 0':'country_code'})"
   ]
  },
  {
   "cell_type": "code",
   "execution_count": 6,
   "metadata": {},
   "outputs": [
    {
     "data": {
      "text/html": [
       "<div>\n",
       "<style scoped>\n",
       "    .dataframe tbody tr th:only-of-type {\n",
       "        vertical-align: middle;\n",
       "    }\n",
       "\n",
       "    .dataframe tbody tr th {\n",
       "        vertical-align: top;\n",
       "    }\n",
       "\n",
       "    .dataframe thead th {\n",
       "        text-align: right;\n",
       "    }\n",
       "</style>\n",
       "<table border=\"1\" class=\"dataframe\">\n",
       "  <thead>\n",
       "    <tr style=\"text-align: right;\">\n",
       "      <th></th>\n",
       "      <th>country_code</th>\n",
       "      <th>cars_per_cap</th>\n",
       "      <th>country</th>\n",
       "      <th>drives_right</th>\n",
       "    </tr>\n",
       "  </thead>\n",
       "  <tbody>\n",
       "    <tr>\n",
       "      <th>0</th>\n",
       "      <td>US</td>\n",
       "      <td>809</td>\n",
       "      <td>United States</td>\n",
       "      <td>True</td>\n",
       "    </tr>\n",
       "    <tr>\n",
       "      <th>1</th>\n",
       "      <td>AUS</td>\n",
       "      <td>731</td>\n",
       "      <td>Australia</td>\n",
       "      <td>False</td>\n",
       "    </tr>\n",
       "    <tr>\n",
       "      <th>2</th>\n",
       "      <td>JAP</td>\n",
       "      <td>588</td>\n",
       "      <td>Japan</td>\n",
       "      <td>False</td>\n",
       "    </tr>\n",
       "    <tr>\n",
       "      <th>3</th>\n",
       "      <td>IN</td>\n",
       "      <td>18</td>\n",
       "      <td>India</td>\n",
       "      <td>False</td>\n",
       "    </tr>\n",
       "    <tr>\n",
       "      <th>4</th>\n",
       "      <td>RU</td>\n",
       "      <td>200</td>\n",
       "      <td>Russia</td>\n",
       "      <td>True</td>\n",
       "    </tr>\n",
       "    <tr>\n",
       "      <th>5</th>\n",
       "      <td>MOR</td>\n",
       "      <td>70</td>\n",
       "      <td>Morocco</td>\n",
       "      <td>True</td>\n",
       "    </tr>\n",
       "    <tr>\n",
       "      <th>6</th>\n",
       "      <td>EG</td>\n",
       "      <td>45</td>\n",
       "      <td>Egypt</td>\n",
       "      <td>True</td>\n",
       "    </tr>\n",
       "  </tbody>\n",
       "</table>\n",
       "</div>"
      ],
      "text/plain": [
       "  country_code  cars_per_cap        country  drives_right\n",
       "0           US           809  United States          True\n",
       "1          AUS           731      Australia         False\n",
       "2          JAP           588          Japan         False\n",
       "3           IN            18          India         False\n",
       "4           RU           200         Russia          True\n",
       "5          MOR            70        Morocco          True\n",
       "6           EG            45          Egypt          True"
      ]
     },
     "execution_count": 6,
     "metadata": {},
     "output_type": "execute_result"
    }
   ],
   "source": [
    "cars"
   ]
  },
  {
   "cell_type": "markdown",
   "metadata": {},
   "source": [
    "There are several ways to index a Pandas DataFrame. One of the easiest ways to do this is by using square bracket notation.<br>\n",
    "In the example below, you can use square brackets to select one column of the cars DataFrame. You can either use a single bracket or a double bracket. The single bracket with output a Pandas Series, while a double bracket will output a Pandas DataFrame."
   ]
  },
  {
   "cell_type": "code",
   "execution_count": 7,
   "metadata": {
    "scrolled": true
   },
   "outputs": [
    {
     "data": {
      "text/html": [
       "<div>\n",
       "<style scoped>\n",
       "    .dataframe tbody tr th:only-of-type {\n",
       "        vertical-align: middle;\n",
       "    }\n",
       "\n",
       "    .dataframe tbody tr th {\n",
       "        vertical-align: top;\n",
       "    }\n",
       "\n",
       "    .dataframe thead th {\n",
       "        text-align: right;\n",
       "    }\n",
       "</style>\n",
       "<table border=\"1\" class=\"dataframe\">\n",
       "  <thead>\n",
       "    <tr style=\"text-align: right;\">\n",
       "      <th></th>\n",
       "      <th>cars_per_cap</th>\n",
       "      <th>country</th>\n",
       "      <th>drives_right</th>\n",
       "    </tr>\n",
       "  </thead>\n",
       "  <tbody>\n",
       "    <tr>\n",
       "      <th>US</th>\n",
       "      <td>809</td>\n",
       "      <td>United States</td>\n",
       "      <td>True</td>\n",
       "    </tr>\n",
       "    <tr>\n",
       "      <th>AUS</th>\n",
       "      <td>731</td>\n",
       "      <td>Australia</td>\n",
       "      <td>False</td>\n",
       "    </tr>\n",
       "    <tr>\n",
       "      <th>JAP</th>\n",
       "      <td>588</td>\n",
       "      <td>Japan</td>\n",
       "      <td>False</td>\n",
       "    </tr>\n",
       "    <tr>\n",
       "      <th>IN</th>\n",
       "      <td>18</td>\n",
       "      <td>India</td>\n",
       "      <td>False</td>\n",
       "    </tr>\n",
       "    <tr>\n",
       "      <th>RU</th>\n",
       "      <td>200</td>\n",
       "      <td>Russia</td>\n",
       "      <td>True</td>\n",
       "    </tr>\n",
       "    <tr>\n",
       "      <th>MOR</th>\n",
       "      <td>70</td>\n",
       "      <td>Morocco</td>\n",
       "      <td>True</td>\n",
       "    </tr>\n",
       "    <tr>\n",
       "      <th>EG</th>\n",
       "      <td>45</td>\n",
       "      <td>Egypt</td>\n",
       "      <td>True</td>\n",
       "    </tr>\n",
       "  </tbody>\n",
       "</table>\n",
       "</div>"
      ],
      "text/plain": [
       "     cars_per_cap        country  drives_right\n",
       "US            809  United States          True\n",
       "AUS           731      Australia         False\n",
       "JAP           588          Japan         False\n",
       "IN             18          India         False\n",
       "RU            200         Russia          True\n",
       "MOR            70        Morocco          True\n",
       "EG             45          Egypt          True"
      ]
     },
     "execution_count": 7,
     "metadata": {},
     "output_type": "execute_result"
    }
   ],
   "source": [
    "# Import cars.csv\n",
    "cars = pd.read_csv('cars.csv', index_col = 0)\n",
    "cars"
   ]
  },
  {
   "cell_type": "code",
   "execution_count": 10,
   "metadata": {},
   "outputs": [
    {
     "name": "stdout",
     "output_type": "stream",
     "text": [
      "US     809\n",
      "AUS    731\n",
      "JAP    588\n",
      "IN      18\n",
      "RU     200\n",
      "MOR     70\n",
      "EG      45\n",
      "Name: cars_per_cap, dtype: int64\n"
     ]
    }
   ],
   "source": [
    "# Printing as Pandas Series\n",
    "print(cars['cars_per_cap'])"
   ]
  },
  {
   "cell_type": "code",
   "execution_count": 11,
   "metadata": {},
   "outputs": [
    {
     "name": "stdout",
     "output_type": "stream",
     "text": [
      "     cars_per_cap\n",
      "US            809\n",
      "AUS           731\n",
      "JAP           588\n",
      "IN             18\n",
      "RU            200\n",
      "MOR            70\n",
      "EG             45\n"
     ]
    }
   ],
   "source": [
    "# Printing as Pandas DataFrame\n",
    "print(cars[['cars_per_cap']])"
   ]
  },
  {
   "cell_type": "code",
   "execution_count": 12,
   "metadata": {},
   "outputs": [
    {
     "name": "stdout",
     "output_type": "stream",
     "text": [
      "     cars_per_cap        country\n",
      "US            809  United States\n",
      "AUS           731      Australia\n",
      "JAP           588          Japan\n",
      "IN             18          India\n",
      "RU            200         Russia\n",
      "MOR            70        Morocco\n",
      "EG             45          Egypt\n"
     ]
    }
   ],
   "source": [
    "# Printing out DataFrame with more columns\n",
    "print(cars[['cars_per_cap', 'country']])"
   ]
  },
  {
   "cell_type": "markdown",
   "metadata": {},
   "source": [
    "Square brackets can also be used to access observations (rows) from a DataFrame. "
   ]
  },
  {
   "cell_type": "code",
   "execution_count": 13,
   "metadata": {},
   "outputs": [
    {
     "name": "stdout",
     "output_type": "stream",
     "text": [
      "     cars_per_cap        country  drives_right\n",
      "US            809  United States          True\n",
      "AUS           731      Australia         False\n",
      "JAP           588          Japan         False\n",
      "IN             18          India         False\n"
     ]
    }
   ],
   "source": [
    "# Print out first 4 observations\n",
    "print(cars[0:4])"
   ]
  },
  {
   "cell_type": "code",
   "execution_count": 14,
   "metadata": {},
   "outputs": [
    {
     "name": "stdout",
     "output_type": "stream",
     "text": [
      "     cars_per_cap  country  drives_right\n",
      "RU            200   Russia          True\n",
      "MOR            70  Morocco          True\n"
     ]
    }
   ],
   "source": [
    "# Print out fifth and sixth observation\n",
    "print(cars[4:6])"
   ]
  },
  {
   "cell_type": "markdown",
   "metadata": {},
   "source": [
    "You can also use 'loc' and 'iloc' to perform just about any data selection operation.<br>\n",
    "'loc' is label-based, which means that you have to specify rows and columns based on their row and column labels.<br>\n",
    "'iloc' is integer index based, so you have to specify rows and columns by their integer index like you did in the previous exercise."
   ]
  },
  {
   "cell_type": "code",
   "execution_count": 15,
   "metadata": {},
   "outputs": [
    {
     "name": "stdout",
     "output_type": "stream",
     "text": [
      "     cars_per_cap country  drives_right\n",
      "JAP           588   Japan         False\n"
     ]
    }
   ],
   "source": [
    "# Print out observation for Japan\n",
    "print(cars.iloc[[2]])"
   ]
  },
  {
   "cell_type": "code",
   "execution_count": 16,
   "metadata": {},
   "outputs": [
    {
     "name": "stdout",
     "output_type": "stream",
     "text": [
      "     cars_per_cap    country  drives_right\n",
      "AUS           731  Australia         False\n",
      "EG             45      Egypt          True\n"
     ]
    }
   ],
   "source": [
    "# Print out observations for Australia and Egypt\n",
    "print(cars.loc[['AUS', 'EG']])"
   ]
  },
  {
   "cell_type": "markdown",
   "metadata": {},
   "source": [
    "## Exercise"
   ]
  },
  {
   "cell_type": "markdown",
   "metadata": {},
   "source": [
    "### a)"
   ]
  },
  {
   "cell_type": "markdown",
   "metadata": {},
   "source": [
    "* Load the JSON file from the following link: http://worldcup.sfg.io/matches\n",
    "    * Try to find out how to open and read url\n",
    "    * Use the urllib and json packages\n",
    "    * Do not forget about the imports\n",
    "* How many matches were played on the world cup?"
   ]
  },
  {
   "cell_type": "code",
   "execution_count": 17,
   "metadata": {},
   "outputs": [],
   "source": [
    "# Imports\n",
    "import json\n",
    "import urllib\n"
   ]
  },
  {
   "cell_type": "code",
   "execution_count": 18,
   "metadata": {},
   "outputs": [],
   "source": [
    "# Save the given url link to variable url\n",
    "url = urllib.request.urlopen('http://worldcup.sfg.io/matches')\n",
    "\n",
    "# Open the url and read the data: data\n",
    "# Do not forget to decode it, HINT: use the .decode function with 'utf-8' argument\n",
    "data = url.read().decode('utf-8')\n"
   ]
  },
  {
   "cell_type": "code",
   "execution_count": 28,
   "metadata": {},
   "outputs": [],
   "source": [
    "# Check the data\n",
    "#print(data)"
   ]
  },
  {
   "cell_type": "code",
   "execution_count": 29,
   "metadata": {},
   "outputs": [
    {
     "name": "stdout",
     "output_type": "stream",
     "text": [
      "{'venue': 'Paris', 'location': 'Parc des Princes', 'status': 'completed', 'time': 'full-time', 'fifa_id': '300438238', 'weather': {'humidity': '78', 'temp_celsius': '15', 'temp_farenheit': '47', 'wind_speed': '32', 'description': 'Cloudy'}, 'attendance': '45261', 'officials': ['Claudia UMPIERREZ', 'Luciana MASCARANA', 'Monica AMBOYA', 'Melissa BORJAS', 'Mauro VIGLIANO', 'Felisha MARISCAL', 'Jose Maria SANCHEZ', 'Mariana DE ALMEIDA'], 'stage_name': 'First Stage', 'home_team_country': 'France', 'away_team_country': 'Korea Republic', 'datetime': '2019-06-07T19:00:00Z', 'winner': 'France', 'winner_code': 'FRA', 'home_team': {'country': 'France', 'code': 'FRA', 'goals': 4, 'penalties': 0}, 'away_team': {'country': 'Korea Republic', 'code': 'KOR', 'goals': 0, 'penalties': 0}, 'home_team_events': [{'id': 1, 'type_of_event': 'goal', 'player': 'Eugenie LE SOMMER', 'time': \"9'\"}, {'id': 2, 'type_of_event': 'goal', 'player': 'Griedge MBOCK BATHY', 'time': \"27'\"}, {'id': 3, 'type_of_event': 'goal', 'player': 'Wendie RENARD', 'time': \"35'\"}, {'id': 4, 'type_of_event': 'goal', 'player': 'Wendie RENARD', 'time': \"45'+3'\"}, {'id': 5, 'type_of_event': 'goal', 'player': 'Wendie RENARD', 'time': \"45'+2'\"}, {'id': 10, 'type_of_event': 'substitution-out', 'player': 'Delphine CASCARINO', 'time': \"70'\"}, {'id': 11, 'type_of_event': 'substitution-in', 'player': 'Valerie GAUVIN', 'time': \"70'\"}, {'id': 12, 'type_of_event': 'substitution-out', 'player': 'Amel MAJRI', 'time': \"74'\"}, {'id': 13, 'type_of_event': 'substitution-in', 'player': 'Eve PERISSET', 'time': \"74'\"}, {'id': 14, 'type_of_event': 'goal', 'player': 'Amandine HENRY', 'time': \"85'\"}, {'id': 15, 'type_of_event': 'substitution-out', 'player': 'Gaetane THINEY', 'time': \"86'\"}, {'id': 16, 'type_of_event': 'substitution-in', 'player': 'Grace GEYORO', 'time': \"86'\"}], 'away_team_events': [{'id': 6, 'type_of_event': 'substitution-out', 'player': 'KANG Yumi', 'time': \"52'\"}, {'id': 7, 'type_of_event': 'substitution-in', 'player': 'KANG Chaerim', 'time': \"52'\"}, {'id': 8, 'type_of_event': 'substitution-out', 'player': 'LEE Youngju', 'time': \"69'\"}, {'id': 9, 'type_of_event': 'substitution-in', 'player': 'LEE Mina', 'time': \"69'\"}, {'id': 17, 'type_of_event': 'substitution-out', 'player': 'JUNG Seolbin', 'time': \"86'\"}, {'id': 18, 'type_of_event': 'substitution-in', 'player': 'YEO Minji', 'time': \"86'\"}], 'home_team_statistics': {'country': 'France', 'attempts_on_goal': 21, 'on_target': 8, 'off_target': 8, 'blocked': 5, 'corners': 13, 'offsides': 2, 'ball_possession': 60, 'pass_accuracy': 87, 'num_passes': 619, 'passes_completed': 540, 'distance_covered': 103, 'tackles': 10, 'clearances': 7, 'yellow_cards': 0, 'red_cards': 0, 'fouls_committed': 11, 'tactics': '4-3-3', 'starting_eleven': [{'name': 'Sarah BOUHADDI', 'captain': False, 'shirt_number': 16, 'position': 'Goalie'}, {'name': 'Wendie RENARD', 'captain': False, 'shirt_number': 3, 'position': 'Defender'}, {'name': 'Marion TORRENT', 'captain': False, 'shirt_number': 4, 'position': 'Defender'}, {'name': 'Amandine HENRY', 'captain': True, 'shirt_number': 6, 'position': 'Midfield'}, {'name': 'Eugenie LE SOMMER', 'captain': False, 'shirt_number': 9, 'position': 'Forward'}, {'name': 'Amel MAJRI', 'captain': False, 'shirt_number': 10, 'position': 'Defender'}, {'name': 'Kadidiatou DIANI', 'captain': False, 'shirt_number': 11, 'position': 'Forward'}, {'name': 'Elise BUSSAGLIA', 'captain': False, 'shirt_number': 15, 'position': 'Midfield'}, {'name': 'Gaetane THINEY', 'captain': False, 'shirt_number': 17, 'position': 'Midfield'}, {'name': 'Griedge MBOCK BATHY', 'captain': False, 'shirt_number': 19, 'position': 'Defender'}, {'name': 'Delphine CASCARINO', 'captain': False, 'shirt_number': 20, 'position': 'Forward'}], 'substitutes': [{'name': 'Solene DURAND', 'captain': False, 'shirt_number': 1, 'position': 'Goalie'}, {'name': 'Eve PERISSET', 'captain': False, 'shirt_number': 2, 'position': 'Defender'}, {'name': 'Aissatou TOUNKARA', 'captain': False, 'shirt_number': 5, 'position': 'Defender'}, {'name': 'Sakina KARCHAOUI', 'captain': False, 'shirt_number': 7, 'position': 'Defender'}, {'name': 'Grace GEYORO', 'captain': False, 'shirt_number': 8, 'position': 'Midfield'}, {'name': 'Emelyne LAURENT', 'captain': False, 'shirt_number': 12, 'position': 'Forward'}, {'name': 'Valerie GAUVIN', 'captain': False, 'shirt_number': 13, 'position': 'Forward'}, {'name': 'Charlotte BILBAULT', 'captain': False, 'shirt_number': 14, 'position': 'Midfield'}, {'name': 'Viviane ASSEYI', 'captain': False, 'shirt_number': 18, 'position': 'Forward'}, {'name': 'Pauline PEYRAUD-MAGNIN', 'captain': False, 'shirt_number': 21, 'position': 'Goalie'}, {'name': 'Julie DEBEVER', 'captain': False, 'shirt_number': 22, 'position': 'Defender'}, {'name': 'Maeva CLEMARON', 'captain': False, 'shirt_number': 23, 'position': 'Midfield'}]}, 'away_team_statistics': {'country': 'Korea Republic', 'attempts_on_goal': 4, 'on_target': 1, 'off_target': 2, 'blocked': 1, 'corners': 1, 'offsides': 0, 'ball_possession': 40, 'pass_accuracy': 74, 'num_passes': 305, 'passes_completed': 227, 'distance_covered': 105, 'tackles': 15, 'clearances': 17, 'yellow_cards': 0, 'red_cards': 0, 'fouls_committed': 11, 'tactics': '4-3-3', 'starting_eleven': [{'name': 'KIM Minjung', 'captain': False, 'shirt_number': 18, 'position': 'Goalie'}, {'name': 'HWANG Boram', 'captain': False, 'shirt_number': 4, 'position': 'Defender'}, {'name': 'KIM Doyeon', 'captain': False, 'shirt_number': 5, 'position': 'Defender'}, {'name': 'CHO Sohyun', 'captain': True, 'shirt_number': 8, 'position': 'Midfield'}, {'name': 'JI Soyun', 'captain': False, 'shirt_number': 10, 'position': 'Forward'}, {'name': 'JUNG Seolbin', 'captain': False, 'shirt_number': 11, 'position': 'Forward'}, {'name': 'KANG Yumi', 'captain': False, 'shirt_number': 12, 'position': 'Midfield'}, {'name': 'LEE Youngju', 'captain': False, 'shirt_number': 15, 'position': 'Midfield'}, {'name': 'JANG Selgi', 'captain': False, 'shirt_number': 16, 'position': 'Defender'}, {'name': 'LEE Geummin', 'captain': False, 'shirt_number': 17, 'position': 'Forward'}, {'name': 'KIM Hyeri', 'captain': False, 'shirt_number': 20, 'position': 'Defender'}], 'substitutes': [{'name': 'KANG Gaae', 'captain': False, 'shirt_number': 1, 'position': 'Goalie'}, {'name': 'LEE Eunmi', 'captain': False, 'shirt_number': 2, 'position': 'Defender'}, {'name': 'JEONG Yeonga', 'captain': False, 'shirt_number': 3, 'position': 'Defender'}, {'name': 'LIM Seonjoo', 'captain': False, 'shirt_number': 6, 'position': 'Defender'}, {'name': 'LEE Mina', 'captain': False, 'shirt_number': 7, 'position': 'Midfield'}, {'name': 'MOON Mira', 'captain': False, 'shirt_number': 9, 'position': 'Midfield'}, {'name': 'YEO Minji', 'captain': False, 'shirt_number': 13, 'position': 'Forward'}, {'name': 'SHIN Damyeong', 'captain': False, 'shirt_number': 14, 'position': 'Defender'}, {'name': 'LEE Sodam', 'captain': False, 'shirt_number': 19, 'position': 'Midfield'}, {'name': 'JUNG Boram', 'captain': False, 'shirt_number': 21, 'position': 'Goalie'}, {'name': 'SON Hwayeon', 'captain': False, 'shirt_number': 22, 'position': 'Forward'}, {'name': 'KANG Chaerim', 'captain': False, 'shirt_number': 23, 'position': 'Midfield'}]}, 'last_event_update_at': '2019-06-07T23:33:26Z', 'last_score_update_at': '2019-06-07T23:33:26Z'}\n"
     ]
    }
   ],
   "source": [
    "# Use the json.loads function on your data to get json type\n",
    "# Save the json-type data to variable vb\n",
    "vb = json.loads(data)\n",
    "\n",
    "# print the new variable to check the data\n",
    "print(vb[0])"
   ]
  },
  {
   "cell_type": "code",
   "execution_count": 21,
   "metadata": {},
   "outputs": [
    {
     "name": "stdout",
     "output_type": "stream",
     "text": [
      "52\n"
     ]
    }
   ],
   "source": [
    "# How many matches were played on the world cup? - print it \n",
    "print(len(vb))"
   ]
  },
  {
   "cell_type": "markdown",
   "metadata": {},
   "source": [
    "### b) "
   ]
  },
  {
   "cell_type": "markdown",
   "metadata": {},
   "source": [
    "Print out the results of all the matches in the following format:\n",
    "    country1 - country2 goal1:goal2 (e.g.: England - Panama 6:1)"
   ]
  },
  {
   "cell_type": "code",
   "execution_count": 30,
   "metadata": {},
   "outputs": [
    {
     "name": "stdout",
     "output_type": "stream",
     "text": [
      "France - Korea Republic 4 : 0\n",
      "Germany - China PR 1 : 0\n",
      "Spain - South Africa 3 : 1\n",
      "Norway - Nigeria 3 : 0\n",
      "Brazil - Jamaica 3 : 0\n",
      "England - Scotland 2 : 1\n",
      "Australia - Italy 1 : 2\n",
      "Argentina - Japan 0 : 0\n",
      "Canada - Cameroon 1 : 0\n",
      "New Zealand - Netherlands 0 : 1\n",
      "Chile - Sweden 0 : 2\n",
      "USA - Thailand 13 : 0\n",
      "Nigeria - Korea Republic 2 : 0\n",
      "Germany - Spain 1 : 0\n",
      "France - Norway 2 : 1\n",
      "Australia - Brazil 3 : 2\n",
      "South Africa - China PR 0 : 1\n",
      "Japan - Scotland 2 : 1\n",
      "Jamaica - Italy 0 : 5\n",
      "England - Argentina 1 : 0\n",
      "Netherlands - Cameroon 3 : 1\n",
      "Canada - New Zealand 2 : 0\n",
      "Sweden - Thailand 5 : 1\n",
      "USA - Chile 3 : 0\n",
      "China PR - Spain 0 : 0\n",
      "South Africa - Germany 0 : 4\n",
      "Nigeria - France 0 : 1\n",
      "Korea Republic - Norway 1 : 2\n",
      "Italy - Brazil 0 : 1\n",
      "Jamaica - Australia 1 : 4\n",
      "Japan - England 0 : 2\n",
      "Scotland - Argentina 3 : 3\n",
      "Cameroon - New Zealand 2 : 1\n",
      "Netherlands - Canada 2 : 1\n",
      "Thailand - Chile 0 : 2\n",
      "Sweden - USA 0 : 2\n",
      "Germany - Nigeria 3 : 0\n",
      "Norway - Australia 1 : 1\n",
      "England - Cameroon 3 : 0\n",
      "France - Brazil 2 : 1\n",
      "Spain - USA 1 : 2\n",
      "Sweden - Canada 1 : 0\n",
      "Italy - China PR 2 : 0\n",
      "Netherlands - Japan 2 : 1\n",
      "Norway - England 0 : 3\n",
      "France - USA 1 : 2\n",
      "Italy - Netherlands 0 : 2\n",
      "Germany - Sweden 1 : 2\n",
      "England - USA 1 : 2\n",
      "Netherlands - Sweden 1 : 0\n",
      "England - Sweden 1 : 2\n",
      "USA - Netherlands 2 : 0\n"
     ]
    }
   ],
   "source": [
    "# Go through all the elements of the vb json file \n",
    "# Print in each case the required data\n",
    "# HINT: find the little dictionary in the big dictionary in which the number of goals is present\n",
    "# Use this little dictionary for gaining the name of the country (who had that many goals) as well\n",
    "for i in range(len(vb)):\n",
    "    print(vb[i]['home_team']['country'], '-', vb[i]['away_team']['country'], vb[i]['home_team']['goals'], ':', vb[i]['away_team']['goals'])\n"
   ]
  },
  {
   "cell_type": "markdown",
   "metadata": {},
   "source": [
    "### c) "
   ]
  },
  {
   "cell_type": "markdown",
   "metadata": {},
   "source": [
    "* Create a Pandas DataFrame:\n",
    "    * Let the rows be the matches\n",
    "    * Let the columns be the following: \n",
    "    'fifa_id', 'location', 'datetime', 'home_team_country', 'away_team_country', 'winner', 'home_team_statistics', 'away_team_statistics'\n",
    "* Split the 'datetime' column into two columns: the day of the match and the starting time (hour, minute)"
   ]
  },
  {
   "cell_type": "code",
   "execution_count": 38,
   "metadata": {},
   "outputs": [
    {
     "data": {
      "text/html": [
       "<div>\n",
       "<style scoped>\n",
       "    .dataframe tbody tr th:only-of-type {\n",
       "        vertical-align: middle;\n",
       "    }\n",
       "\n",
       "    .dataframe tbody tr th {\n",
       "        vertical-align: top;\n",
       "    }\n",
       "\n",
       "    .dataframe thead th {\n",
       "        text-align: right;\n",
       "    }\n",
       "</style>\n",
       "<table border=\"1\" class=\"dataframe\">\n",
       "  <thead>\n",
       "    <tr style=\"text-align: right;\">\n",
       "      <th></th>\n",
       "      <th>fifa_id</th>\n",
       "      <th>location</th>\n",
       "      <th>datetime</th>\n",
       "      <th>home_team_country</th>\n",
       "      <th>away_team_country</th>\n",
       "      <th>winner</th>\n",
       "      <th>home_team_statistics</th>\n",
       "      <th>away_team_statistics</th>\n",
       "    </tr>\n",
       "  </thead>\n",
       "  <tbody>\n",
       "    <tr>\n",
       "      <th>0</th>\n",
       "      <td>300438238</td>\n",
       "      <td>Parc des Princes</td>\n",
       "      <td>2019-06-07T19:00:00Z</td>\n",
       "      <td>France</td>\n",
       "      <td>Korea Republic</td>\n",
       "      <td>France</td>\n",
       "      <td>{'country': 'France', 'attempts_on_goal': 21, ...</td>\n",
       "      <td>{'country': 'Korea Republic', 'attempts_on_goa...</td>\n",
       "    </tr>\n",
       "    <tr>\n",
       "      <th>1</th>\n",
       "      <td>300438216</td>\n",
       "      <td>Roazhon Park</td>\n",
       "      <td>2019-06-08T13:00:00Z</td>\n",
       "      <td>Germany</td>\n",
       "      <td>China PR</td>\n",
       "      <td>Germany</td>\n",
       "      <td>{'country': 'Germany', 'attempts_on_goal': 18,...</td>\n",
       "      <td>{'country': 'China PR', 'attempts_on_goal': 4,...</td>\n",
       "    </tr>\n",
       "    <tr>\n",
       "      <th>2</th>\n",
       "      <td>300438234</td>\n",
       "      <td>Stade Océane</td>\n",
       "      <td>2019-06-08T16:00:00Z</td>\n",
       "      <td>Spain</td>\n",
       "      <td>South Africa</td>\n",
       "      <td>Spain</td>\n",
       "      <td>{'country': 'Spain', 'attempts_on_goal': 25, '...</td>\n",
       "      <td>{'country': 'South Africa', 'attempts_on_goal'...</td>\n",
       "    </tr>\n",
       "    <tr>\n",
       "      <th>3</th>\n",
       "      <td>300438213</td>\n",
       "      <td>Stade Auguste-Delaune</td>\n",
       "      <td>2019-06-08T19:00:00Z</td>\n",
       "      <td>Norway</td>\n",
       "      <td>Nigeria</td>\n",
       "      <td>Norway</td>\n",
       "      <td>{'country': 'Norway', 'attempts_on_goal': 10, ...</td>\n",
       "      <td>{'country': 'Nigeria', 'attempts_on_goal': 9, ...</td>\n",
       "    </tr>\n",
       "    <tr>\n",
       "      <th>4</th>\n",
       "      <td>300438219</td>\n",
       "      <td>Stade des Alpes</td>\n",
       "      <td>2019-06-09T13:30:00Z</td>\n",
       "      <td>Brazil</td>\n",
       "      <td>Jamaica</td>\n",
       "      <td>Brazil</td>\n",
       "      <td>{'country': 'Brazil', 'attempts_on_goal': 18, ...</td>\n",
       "      <td>{'country': 'Jamaica', 'attempts_on_goal': 13,...</td>\n",
       "    </tr>\n",
       "  </tbody>\n",
       "</table>\n",
       "</div>"
      ],
      "text/plain": [
       "     fifa_id               location              datetime home_team_country  \\\n",
       "0  300438238       Parc des Princes  2019-06-07T19:00:00Z            France   \n",
       "1  300438216           Roazhon Park  2019-06-08T13:00:00Z           Germany   \n",
       "2  300438234           Stade Océane  2019-06-08T16:00:00Z             Spain   \n",
       "3  300438213  Stade Auguste-Delaune  2019-06-08T19:00:00Z            Norway   \n",
       "4  300438219        Stade des Alpes  2019-06-09T13:30:00Z            Brazil   \n",
       "\n",
       "  away_team_country   winner  \\\n",
       "0    Korea Republic   France   \n",
       "1          China PR  Germany   \n",
       "2      South Africa    Spain   \n",
       "3           Nigeria   Norway   \n",
       "4           Jamaica   Brazil   \n",
       "\n",
       "                                home_team_statistics  \\\n",
       "0  {'country': 'France', 'attempts_on_goal': 21, ...   \n",
       "1  {'country': 'Germany', 'attempts_on_goal': 18,...   \n",
       "2  {'country': 'Spain', 'attempts_on_goal': 25, '...   \n",
       "3  {'country': 'Norway', 'attempts_on_goal': 10, ...   \n",
       "4  {'country': 'Brazil', 'attempts_on_goal': 18, ...   \n",
       "\n",
       "                                away_team_statistics  \n",
       "0  {'country': 'Korea Republic', 'attempts_on_goa...  \n",
       "1  {'country': 'China PR', 'attempts_on_goal': 4,...  \n",
       "2  {'country': 'South Africa', 'attempts_on_goal'...  \n",
       "3  {'country': 'Nigeria', 'attempts_on_goal': 9, ...  \n",
       "4  {'country': 'Jamaica', 'attempts_on_goal': 13,...  "
      ]
     },
     "execution_count": 38,
     "metadata": {},
     "output_type": "execute_result"
    }
   ],
   "source": [
    "# Create a Pandas DataFrame from the vb data: table\n",
    "table = pd.DataFrame(vb)\n",
    "\n",
    "# Create a new, smaller table, which contains only the required columns: smalltable\n",
    "smalltable = table[['fifa_id', 'location', 'datetime', 'home_team_country', 'away_team_country', 'winner', 'home_team_statistics', 'away_team_statistics']]\n",
    "\n",
    "# Print the obtained DataFrame (smalltable)\n",
    "smalltable.head()"
   ]
  },
  {
   "cell_type": "code",
   "execution_count": 45,
   "metadata": {},
   "outputs": [
    {
     "data": {
      "text/html": [
       "<div>\n",
       "<style scoped>\n",
       "    .dataframe tbody tr th:only-of-type {\n",
       "        vertical-align: middle;\n",
       "    }\n",
       "\n",
       "    .dataframe tbody tr th {\n",
       "        vertical-align: top;\n",
       "    }\n",
       "\n",
       "    .dataframe thead th {\n",
       "        text-align: right;\n",
       "    }\n",
       "</style>\n",
       "<table border=\"1\" class=\"dataframe\">\n",
       "  <thead>\n",
       "    <tr style=\"text-align: right;\">\n",
       "      <th></th>\n",
       "      <th>0</th>\n",
       "      <th>1</th>\n",
       "    </tr>\n",
       "  </thead>\n",
       "  <tbody>\n",
       "    <tr>\n",
       "      <th>0</th>\n",
       "      <td>2019-06-07</td>\n",
       "      <td>19:00:00Z</td>\n",
       "    </tr>\n",
       "    <tr>\n",
       "      <th>1</th>\n",
       "      <td>2019-06-08</td>\n",
       "      <td>13:00:00Z</td>\n",
       "    </tr>\n",
       "    <tr>\n",
       "      <th>2</th>\n",
       "      <td>2019-06-08</td>\n",
       "      <td>16:00:00Z</td>\n",
       "    </tr>\n",
       "    <tr>\n",
       "      <th>3</th>\n",
       "      <td>2019-06-08</td>\n",
       "      <td>19:00:00Z</td>\n",
       "    </tr>\n",
       "    <tr>\n",
       "      <th>4</th>\n",
       "      <td>2019-06-09</td>\n",
       "      <td>13:30:00Z</td>\n",
       "    </tr>\n",
       "  </tbody>\n",
       "</table>\n",
       "</div>"
      ],
      "text/plain": [
       "            0          1\n",
       "0  2019-06-07  19:00:00Z\n",
       "1  2019-06-08  13:00:00Z\n",
       "2  2019-06-08  16:00:00Z\n",
       "3  2019-06-08  19:00:00Z\n",
       "4  2019-06-09  13:30:00Z"
      ]
     },
     "execution_count": 45,
     "metadata": {},
     "output_type": "execute_result"
    }
   ],
   "source": [
    "# Splitting the date\n",
    "splitDate = smalltable['datetime'].str.split('T', expand=True)\n",
    "splitDate.head()\n",
    "\n",
    "\n"
   ]
  },
  {
   "cell_type": "markdown",
   "metadata": {},
   "source": [
    "### d) "
   ]
  },
  {
   "cell_type": "markdown",
   "metadata": {},
   "source": [
    "How many matches were played in each stadion? Plot the results on a pie chart."
   ]
  },
  {
   "cell_type": "code",
   "execution_count": 58,
   "metadata": {},
   "outputs": [
    {
     "name": "stdout",
     "output_type": "stream",
     "text": [
      "location\n",
      "Parc des Princes         7\n",
      "Roazhon Park             7\n",
      "Stade Auguste-Delaune    6\n",
      "Stade Océane             7\n",
      "Stade de Lyon            3\n",
      "Stade de Nice            6\n",
      "Stade de la Mosson       5\n",
      "Stade des Alpes          5\n",
      "Stade du Hainaut         6\n",
      "Name: fifa_id, dtype: int64\n"
     ]
    }
   ],
   "source": [
    "# HINT: you can use the .groupby function (and .count() function)\n",
    "import matplotlib.pyplot as plt\n",
    "\n",
    "matchesInEachStadion = smalltable.groupby(['location']).count()['fifa_id']\n",
    "\n",
    "\n",
    "\n",
    "# Print the number of played matches in each stadion (the above obtained result)\n",
    "print(matchesInEachStadion)"
   ]
  },
  {
   "cell_type": "code",
   "execution_count": 59,
   "metadata": {},
   "outputs": [
    {
     "data": {
      "image/png": "[encoded data removed]",
      "text/plain": [
       "<Figure size 360x360 with 1 Axes>"
      ]
     },
     "metadata": {},
     "output_type": "display_data"
    }
   ],
   "source": [
    "# Plot the results on a pie chart, show the plot\n",
    "# Én próbálkozásom, nem jó\n",
    "# labels = smalltable.groupby(['location']).count()['location']\n",
    "# sizes = smalltable.groupby(['location']).count()['fifa_id']\n",
    "\n",
    "# fig, ax = plt.subplots()\n",
    "# ax.pie(sizes, labels=labels, startangle=90)\n",
    "# ax.axis('equal')\n",
    "# Hivatalos\n",
    "matchesInEachStadion.plot.pie(y='location', figsize=(5,5))\n",
    "plt.show()\n"
   ]
  },
  {
   "cell_type": "markdown",
   "metadata": {},
   "source": [
    "### e) "
   ]
  },
  {
   "cell_type": "markdown",
   "metadata": {},
   "source": [
    "Create a scatterplot about the matches showing the connection between *'attempts'* and *'posession'*. <br>\n",
    "Color the dots according to *'pass_accuracy'*.\n",
    "\n",
    "Study the result and draw conclusions."
   ]
  },
  {
   "cell_type": "code",
   "execution_count": 75,
   "metadata": {},
   "outputs": [
    {
     "data": {
      "image/png": "[encoded data removed]",
      "text/plain": [
       "<Figure size 1152x576 with 1 Axes>"
      ]
     },
     "metadata": {
      "needs_background": "light"
     },
     "output_type": "display_data"
    }
   ],
   "source": [
    "# Import seaborn\n",
    "# Import cm from matplotlib\n",
    "import seaborn as sns\n",
    "from matplotlib import cm\n",
    "\n",
    "\n",
    "# Create 3 empty lists: possession, attempts, accuracy\n",
    "possession = []\n",
    "attempts = []\n",
    "accuracy = []\n",
    "\n",
    "\n",
    "\n",
    "# Find out which column of the smalltable you should go through\n",
    "# Fill up the above created lists\n",
    "for i in range(len(smalltable)):\n",
    "    possession.append(smalltable['home_team_statistics'][i]['ball_possession'])\n",
    "    possession.append(smalltable['away_team_statistics'][i]['ball_possession'])\n",
    "    attempts.append(smalltable['home_team_statistics'][i]['attempts_on_goal'])\n",
    "    attempts.append(smalltable['away_team_statistics'][i]['attempts_on_goal'])\n",
    "    accuracy.append(smalltable['home_team_statistics'][i]['pass_accuracy'])\n",
    "    accuracy.append(smalltable['away_team_statistics'][i]['pass_accuracy'])\n",
    "\n",
    "# Create a plt figure with size (16,8)\n",
    "plt.figure(figsize=(16,8))\n",
    "\n",
    "# Create an sns scatterplot showing the connection between 'attempts' and 'posession'\n",
    "# Color the dots according to 'pass_accuracy'.\n",
    "# Set the size of the dots \n",
    "# Set a color palette \n",
    "sns.scatterplot(x=attempts, y=possession, hue=accuracy, palette=cm.Reds, size=100)\n",
    "\n",
    "# Label the axes\n",
    "plt.ylabel('possession')\n",
    "plt.xlabel('attempts')\n",
    "\n",
    "\n",
    "# Show the plot\n",
    "plt.show()\n"
   ]
  },
  {
   "cell_type": "code",
   "execution_count": null,
   "metadata": {},
   "outputs": [],
   "source": []
  },
  {
   "cell_type": "code",
   "execution_count": null,
   "metadata": {},
   "outputs": [],
   "source": []
  }
 ],
 "metadata": {
  "kernelspec": {
   "display_name": "Python 3",
   "language": "python",
   "name": "python3"
  },
  "language_info": {
   "codemirror_mode": {
    "name": "ipython",
    "version": 3
   },
   "file_extension": ".py",
   "mimetype": "text/x-python",
   "name": "python",
   "nbconvert_exporter": "python",
   "pygments_lexer": "ipython3",
   "version": "3.9.7"
  }
 },
 "nbformat": 4,
 "nbformat_minor": 2
}
